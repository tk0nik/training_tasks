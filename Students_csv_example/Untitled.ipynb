{
 "cells": [
  {
   "cell_type": "markdown",
   "id": "loving-arabic",
   "metadata": {},
   "source": [
    "# It's just an example of csv-files processing"
   ]
  },
  {
   "cell_type": "code",
   "execution_count": 1,
   "id": "three-yorkshire",
   "metadata": {},
   "outputs": [],
   "source": [
    "import pandas"
   ]
  },
  {
   "cell_type": "markdown",
   "id": "thermal-bunch",
   "metadata": {},
   "source": [
    "## functions"
   ]
  },
  {
   "cell_type": "code",
   "execution_count": 2,
   "id": "authentic-portrait",
   "metadata": {},
   "outputs": [],
   "source": [
    "def only_in_group(value):\n",
    "    return table[table['group'] == value]"
   ]
  },
  {
   "cell_type": "markdown",
   "id": "specialized-horse",
   "metadata": {},
   "source": [
    "## data"
   ]
  },
  {
   "cell_type": "code",
   "execution_count": 3,
   "id": "rural-penetration",
   "metadata": {},
   "outputs": [],
   "source": [
    "file = 'students_2021.csv'\n",
    "table = pandas.read_csv(file)   #table is pandas dataframe (thanks cap)"
   ]
  },
  {
   "cell_type": "markdown",
   "id": "purple-scroll",
   "metadata": {},
   "source": [
    "# main "
   ]
  },
  {
   "cell_type": "code",
   "execution_count": 4,
   "id": "vulnerable-string",
   "metadata": {},
   "outputs": [],
   "source": [
    "    #preparation to processing\n",
    "\n",
    "table.drop('Отметка времени', inplace = True, axis = 1)\n",
    "table.columns = [   'group', 'name', 'birth','phone',\n",
    "                    'parents','have_google','have_discord',\n",
    "                    'discord_name','equipment','skills','practice']"
   ]
  },
  {
   "cell_type": "code",
   "execution_count": 6,
   "id": "fancy-prairie",
   "metadata": {},
   "outputs": [
    {
     "name": "stdout",
     "output_type": "stream",
     "text": [
      "group number1\n"
     ]
    },
    {
     "data": {
      "text/html": [
       "<div>\n",
       "<style scoped>\n",
       "    .dataframe tbody tr th:only-of-type {\n",
       "        vertical-align: middle;\n",
       "    }\n",
       "\n",
       "    .dataframe tbody tr th {\n",
       "        vertical-align: top;\n",
       "    }\n",
       "\n",
       "    .dataframe thead th {\n",
       "        text-align: right;\n",
       "    }\n",
       "</style>\n",
       "<table border=\"1\" class=\"dataframe\">\n",
       "  <thead>\n",
       "    <tr style=\"text-align: right;\">\n",
       "      <th></th>\n",
       "      <th>group</th>\n",
       "      <th>name</th>\n",
       "      <th>skills</th>\n",
       "    </tr>\n",
       "  </thead>\n",
       "  <tbody>\n",
       "    <tr>\n",
       "      <th>2</th>\n",
       "      <td>1Р</td>\n",
       "      <td>Михно Дарья</td>\n",
       "      <td>Использует компьютер для работы в офисных прог...</td>\n",
       "    </tr>\n",
       "    <tr>\n",
       "      <th>15</th>\n",
       "      <td>1Р</td>\n",
       "      <td>Корогод Константин Максимович</td>\n",
       "      <td>Использует компьютер для игр, Использует компь...</td>\n",
       "    </tr>\n",
       "    <tr>\n",
       "      <th>18</th>\n",
       "      <td>1Р</td>\n",
       "      <td>Колеогло Даниил</td>\n",
       "      <td>Использует компьютер для игр, Использует брауз...</td>\n",
       "    </tr>\n",
       "    <tr>\n",
       "      <th>19</th>\n",
       "      <td>1Р</td>\n",
       "      <td>Корогод Константин Максимович</td>\n",
       "      <td>Использует компьютер для игр, Использует компь...</td>\n",
       "    </tr>\n",
       "    <tr>\n",
       "      <th>20</th>\n",
       "      <td>1Р</td>\n",
       "      <td>Никитенко Матвей</td>\n",
       "      <td>Использует браузер и мессенджеры на компьютере...</td>\n",
       "    </tr>\n",
       "    <tr>\n",
       "      <th>25</th>\n",
       "      <td>1Р</td>\n",
       "      <td>Гнатюк Егор</td>\n",
       "      <td>Использует компьютер для игр, Использует компь...</td>\n",
       "    </tr>\n",
       "    <tr>\n",
       "      <th>30</th>\n",
       "      <td>1Р</td>\n",
       "      <td>Малоушкин Арсений</td>\n",
       "      <td>Использует компьютер для игр, Использует брауз...</td>\n",
       "    </tr>\n",
       "    <tr>\n",
       "      <th>33</th>\n",
       "      <td>1Р</td>\n",
       "      <td>Назаров Егор</td>\n",
       "      <td>Использует компьютер для игр</td>\n",
       "    </tr>\n",
       "  </tbody>\n",
       "</table>\n",
       "</div>"
      ],
      "text/plain": [
       "   group                           name  \\\n",
       "2     1Р                    Михно Дарья   \n",
       "15    1Р  Корогод Константин Максимович   \n",
       "18    1Р                Колеогло Даниил   \n",
       "19    1Р  Корогод Константин Максимович   \n",
       "20    1Р               Никитенко Матвей   \n",
       "25    1Р                    Гнатюк Егор   \n",
       "30    1Р              Малоушкин Арсений   \n",
       "33    1Р                  Назаров Егор    \n",
       "\n",
       "                                               skills  \n",
       "2   Использует компьютер для работы в офисных прог...  \n",
       "15  Использует компьютер для игр, Использует компь...  \n",
       "18  Использует компьютер для игр, Использует брауз...  \n",
       "19  Использует компьютер для игр, Использует компь...  \n",
       "20  Использует браузер и мессенджеры на компьютере...  \n",
       "25  Использует компьютер для игр, Использует компь...  \n",
       "30  Использует компьютер для игр, Использует брауз...  \n",
       "33                       Использует компьютер для игр  "
      ]
     },
     "execution_count": 6,
     "metadata": {},
     "output_type": "execute_result"
    }
   ],
   "source": [
    "    #processing\n",
    "num = input('group number: ')\n",
    "only_in_group(num+'Р')[['group','name', 'skills']]"
   ]
  },
  {
   "cell_type": "code",
   "execution_count": null,
   "id": "tired-favor",
   "metadata": {},
   "outputs": [],
   "source": []
  }
 ],
 "metadata": {
  "kernelspec": {
   "display_name": "Python 3",
   "language": "python",
   "name": "python3"
  },
  "language_info": {
   "codemirror_mode": {
    "name": "ipython",
    "version": 3
   },
   "file_extension": ".py",
   "mimetype": "text/x-python",
   "name": "python",
   "nbconvert_exporter": "python",
   "pygments_lexer": "ipython3",
   "version": "3.9.0"
  }
 },
 "nbformat": 4,
 "nbformat_minor": 5
}
